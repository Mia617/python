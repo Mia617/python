{
  "nbformat": 4,
  "nbformat_minor": 0,
  "metadata": {
    "colab": {
      "provenance": []
    },
    "kernelspec": {
      "name": "python3",
      "display_name": "Python 3"
    },
    "language_info": {
      "name": "python"
    }
  },
  "cells": [
    {
      "cell_type": "markdown",
      "source": [
        "Question 1: Write a program which will find all such numbers which are divisible by 7 but are not a multiple of 5, between 2000 and 3200 (both included). The numbers obtained should be printed in a comma-separated sequence on a single line."
      ],
      "metadata": {
        "id": "nCvrjvzCXsPA"
      }
    },
    {
      "cell_type": "code",
      "source": [
        "l=[]\n",
        "for i in range(2000, 3201):\n",
        "    if (i%7==0) and (i%5!=0):\n",
        "        l.append(str(i))\n",
        "\n",
        "print(','.join(l))"
      ],
      "metadata": {
        "colab": {
          "base_uri": "https://localhost:8080/"
        },
        "id": "-PA6v7DQccbg",
        "outputId": "ef4c839e-0f6a-4eb2-c4b0-545959830053"
      },
      "execution_count": null,
      "outputs": [
        {
          "output_type": "stream",
          "name": "stdout",
          "text": [
            "2002,2009,2016,2023,2037,2044,2051,2058,2072,2079,2086,2093,2107,2114,2121,2128,2142,2149,2156,2163,2177,2184,2191,2198,2212,2219,2226,2233,2247,2254,2261,2268,2282,2289,2296,2303,2317,2324,2331,2338,2352,2359,2366,2373,2387,2394,2401,2408,2422,2429,2436,2443,2457,2464,2471,2478,2492,2499,2506,2513,2527,2534,2541,2548,2562,2569,2576,2583,2597,2604,2611,2618,2632,2639,2646,2653,2667,2674,2681,2688,2702,2709,2716,2723,2737,2744,2751,2758,2772,2779,2786,2793,2807,2814,2821,2828,2842,2849,2856,2863,2877,2884,2891,2898,2912,2919,2926,2933,2947,2954,2961,2968,2982,2989,2996,3003,3017,3024,3031,3038,3052,3059,3066,3073,3087,3094,3101,3108,3122,3129,3136,3143,3157,3164,3171,3178,3192,3199\n"
          ]
        }
      ]
    },
    {
      "cell_type": "markdown",
      "source": [
        "Question 2: Write a program which can compute the factorial of a given numbers. The results should be printed in a comma-separated sequence on a single line. Suppose the following input is supplied to the program: 8 Then, the output should be: 40320"
      ],
      "metadata": {
        "id": "OMmGW7o5XrW-"
      }
    },
    {
      "cell_type": "code",
      "source": [
        "def fact(n):\n",
        "  dic={0:1}\n",
        "  for i in range(1,n+1):\n",
        "    dic[i]=i*dic[i-1]\n",
        "  return dic[n]\n",
        "\n",
        "print(fact(6))"
      ],
      "metadata": {
        "colab": {
          "base_uri": "https://localhost:8080/"
        },
        "id": "4EVKjfAwd5db",
        "outputId": "b89b7412-f730-44f7-cd16-e1661df023fb"
      },
      "execution_count": null,
      "outputs": [
        {
          "output_type": "stream",
          "name": "stdout",
          "text": [
            "720\n"
          ]
        }
      ]
    },
    {
      "cell_type": "markdown",
      "source": [
        "Question 3: With a given integral number n, write a program to generate a dictionary that contains (i, i*i) such that is an integral number between 1 and n (both included). and then the program should print the dictionary. Suppose the following input is supplied to the program: 8 Then, the output should be: {1: 1, 2: 4, 3: 9, 4: 16, 5: 25, 6: 36, 7: 49, 8: 64}"
      ],
      "metadata": {
        "id": "T7yoUDJzgCLK"
      }
    },
    {
      "cell_type": "code",
      "source": [
        "n=int(input())\n",
        "dic={}\n",
        "for i in range(1,n+1):\n",
        "  dic[i]=i**2\n",
        "print(dic)"
      ],
      "metadata": {
        "colab": {
          "base_uri": "https://localhost:8080/"
        },
        "id": "p3lR9t2GgF-M",
        "outputId": "9f107752-bf21-4a48-f797-f2c7c96e800b"
      },
      "execution_count": null,
      "outputs": [
        {
          "output_type": "stream",
          "name": "stdout",
          "text": [
            "7\n",
            "{1: 1, 2: 4, 3: 9, 4: 16, 5: 25, 6: 36, 7: 49}\n"
          ]
        }
      ]
    },
    {
      "cell_type": "markdown",
      "source": [
        "Question 4: Write a program which accepts a sequence of comma-separated numbers from console and generate a list and a tuple which contains every number. Suppose the following input is supplied to the program: 34,67,55,33,12,98 Then, the output should be: ['34', '67', '55', '33', '12', '98'] ('34', '67', '55', '33', '12', '98')"
      ],
      "metadata": {
        "id": "IVGyZcu4qnYh"
      }
    },
    {
      "cell_type": "code",
      "source": [
        "values=input()\n",
        "l=values.split(',')\n",
        "t=tuple(l)\n",
        "print(values)"
      ],
      "metadata": {
        "colab": {
          "base_uri": "https://localhost:8080/"
        },
        "id": "pNjBE93Iqq7B",
        "outputId": "40ffa872-e42a-4e9a-e359-47a2ddd4f88e"
      },
      "execution_count": null,
      "outputs": [
        {
          "output_type": "stream",
          "name": "stdout",
          "text": [
            "1,2\n",
            "1,2\n"
          ]
        }
      ]
    },
    {
      "cell_type": "markdown",
      "source": [
        "Question 5: Define a class which has at least two methods: getString: to get a string from console input printString: to print the string in upper case. Also please include simple test function to test the class methods."
      ],
      "metadata": {
        "id": "5n1ctJF8tVUX"
      }
    },
    {
      "cell_type": "code",
      "source": [
        "class strings:\n",
        "  def __init__(self):\n",
        "    self.s=''\n",
        "  def getstring(self):\n",
        "    self.s=input()\n",
        "  def printstring(self):\n",
        "    print(self.s.upper())\n",
        "\n",
        "obj=strings()\n",
        "obj.getstring()\n",
        "obj.printstring()\n"
      ],
      "metadata": {
        "colab": {
          "base_uri": "https://localhost:8080/"
        },
        "id": "W-IOZm3Lvf_Q",
        "outputId": "7cf1856c-6d6c-48a2-be94-45917f27a468"
      },
      "execution_count": null,
      "outputs": [
        {
          "output_type": "stream",
          "name": "stdout",
          "text": [
            "sdfe\n",
            "SDFE\n"
          ]
        }
      ]
    },
    {
      "cell_type": "markdown",
      "source": [
        "Question 6: Write a program that calculates and prints the value according to the given formula: Q = Square root of [(2 * C * D)/H] Following are the fixed values of C and H: C is 50. H is 30. D is the variable whose values should be input to your program in a comma-separated sequence. Example Let us assume the following comma separated input sequence is given to the program: 100,150,180 The output of the program should be: 18,22,24"
      ],
      "metadata": {
        "id": "5aDtG3k5JMWA"
      }
    },
    {
      "cell_type": "code",
      "source": [
        "import math\n",
        "c=50\n",
        "h=30\n",
        "values=[]\n",
        "nums=[x for x in input().split(',')]\n",
        "print(nums)\n",
        "for i in nums:\n",
        "  values.append(round(math.sqrt((2*c*float(i))/h)))       #float() function converts the specified value into a floating point number.\n",
        "\n",
        "print(values)"
      ],
      "metadata": {
        "colab": {
          "base_uri": "https://localhost:8080/"
        },
        "id": "f6NWI1WEJPli",
        "outputId": "c8c83fe6-3200-43a0-c2fe-95de50cc5ab2"
      },
      "execution_count": null,
      "outputs": [
        {
          "output_type": "stream",
          "name": "stdout",
          "text": [
            "19,46,77\n",
            "['19', '46', '77']\n",
            "[8, 12, 16]\n"
          ]
        }
      ]
    },
    {
      "cell_type": "markdown",
      "source": [
        "Question 7: Write a program which takes 2 digits, X,Y as input and generates a 2-dimensional array. The element value in the i-th row and j-th column of the array should be i*j. Note: i=0,1.., X-1; j=0,1,¡­Y-1. Example Suppose the following inputs are given to the program: 3,5 Then, the output of the program should be: [[0, 0, 0, 0, 0], [0, 1, 2, 3, 4], [0, 2, 4, 6, 8]]"
      ],
      "metadata": {
        "id": "xMqtWu3nSEwD"
      }
    },
    {
      "cell_type": "code",
      "source": [
        "input_val=input()\n",
        "vals=[int(x) for x in input_val.split(',')]\n",
        "x=vals[0]\n",
        "y=vals[1]\n",
        "output=[[0 for y in range(y)] for x in range(x)]\n",
        "\n",
        "for i in range(x):\n",
        "  for j in range(y):\n",
        "    output[i][j] = i*j\n",
        "\n",
        "print(output)"
      ],
      "metadata": {
        "colab": {
          "base_uri": "https://localhost:8080/"
        },
        "id": "xVt_QfapQYM0",
        "outputId": "9f49b7d4-bcff-41b4-9948-f95bb4530e29"
      },
      "execution_count": null,
      "outputs": [
        {
          "output_type": "stream",
          "name": "stdout",
          "text": [
            "8,9\n",
            "[[0, 0, 0, 0, 0, 0, 0, 0, 0], [0, 1, 2, 3, 4, 5, 6, 7, 8], [0, 2, 4, 6, 8, 10, 12, 14, 16], [0, 3, 6, 9, 12, 15, 18, 21, 24], [0, 4, 8, 12, 16, 20, 24, 28, 32], [0, 5, 10, 15, 20, 25, 30, 35, 40], [0, 6, 12, 18, 24, 30, 36, 42, 48], [0, 7, 14, 21, 28, 35, 42, 49, 56]]\n"
          ]
        }
      ]
    },
    {
      "cell_type": "markdown",
      "source": [
        "Question 8: Write a program that accepts a comma separated sequence of words as input and prints the words in a comma-separated sequence after sorting them alphabetically. Suppose the following input is supplied to the program: without,hello,bag,world Then, the output should be: bag,hello,without,world"
      ],
      "metadata": {
        "id": "y5I6l0lCUwSb"
      }
    },
    {
      "cell_type": "code",
      "source": [
        "\n",
        "words_1=sorted([x for x in input().split(',')])\n",
        "print(words_1)"
      ],
      "metadata": {
        "colab": {
          "base_uri": "https://localhost:8080/"
        },
        "id": "b_MM-P3DUvN0",
        "outputId": "53e9ee9f-63d4-4a8d-8e5a-c86d8f844280"
      },
      "execution_count": null,
      "outputs": [
        {
          "output_type": "stream",
          "name": "stdout",
          "text": [
            "without,hello,bag,world Then, t\n",
            "[' t', 'bag', 'hello', 'without', 'world Then']\n"
          ]
        }
      ]
    },
    {
      "cell_type": "markdown",
      "source": [
        "Question 9： Write a program that accepts sequence of lines as input and prints the lines after making all characters in the sentence capitalized. Suppose the following input is supplied to the program: Hello world Practice makes perfect Then, the output should be: HELLO WORLD PRACTICE MAKES PERFECT"
      ],
      "metadata": {
        "id": "lNW2IAHFe5Mm"
      }
    },
    {
      "cell_type": "code",
      "source": [],
      "metadata": {
        "id": "Hmefg9_He93D"
      },
      "execution_count": null,
      "outputs": []
    },
    {
      "cell_type": "markdown",
      "source": [
        "Question 10: Write a program that accepts a sequence of whitespace separated words as input and prints the words after removing all duplicate words and sorting them alphanumerically. Suppose the following input is supplied to the program: hello world and practice makes perfect and hello world again Then, the output should be: again and hello makes perfect practice world"
      ],
      "metadata": {
        "id": "rARPvEtdfTpc"
      }
    },
    {
      "cell_type": "code",
      "source": [
        "word=sorted(set([x for x in input().split(' ')]))\n",
        "print(word)"
      ],
      "metadata": {
        "colab": {
          "base_uri": "https://localhost:8080/"
        },
        "id": "BP5N88HAfV7d",
        "outputId": "9faebc13-82f6-4192-ac1c-47b39d475d83"
      },
      "execution_count": null,
      "outputs": [
        {
          "output_type": "stream",
          "name": "stdout",
          "text": [
            "hello world and practice makes perfect and hello world again\n",
            "['again', 'and', 'hello', 'makes', 'perfect', 'practice', 'world']\n"
          ]
        }
      ]
    },
    {
      "cell_type": "markdown",
      "source": [
        "Question 11: Write a program which accepts a sequence of comma separated 4 digit binary numbers as its input and then check whether they are divisible by 5 or not. The numbers that are divisible by 5 are to be printed in a comma separated sequence. Example: 0100,0011,1010,1001 Then the output should be: 1010 Notes: Assume the data is input by console."
      ],
      "metadata": {
        "id": "SYyR9qzUgopk"
      }
    },
    {
      "cell_type": "code",
      "source": [
        "value = []\n",
        "items=[x for x in input().split(',')]\n",
        "for p in items:\n",
        "    intp = int(p, 2)   #二进制转换成十进制\n",
        "    if intp%5 ==0:\n",
        "        value.append(p)\n",
        "print(value)"
      ],
      "metadata": {
        "colab": {
          "base_uri": "https://localhost:8080/"
        },
        "id": "eTKzt4K4gqwO",
        "outputId": "1e5c90ad-ed5a-4059-bc93-14c9323f735b"
      },
      "execution_count": null,
      "outputs": [
        {
          "output_type": "stream",
          "name": "stdout",
          "text": [
            " 0100,0011,1010,1001\n",
            "['1010']\n"
          ]
        }
      ]
    },
    {
      "cell_type": "markdown",
      "source": [
        "Question 12: Write a program, which will find all such numbers between 1000 and 3000 (both included) such that each digit of the number is an even number. The numbers obtained should be printed in a comma-separated sequence on a single line.\n",
        "\n"
      ],
      "metadata": {
        "id": "9IgWYLn8kB8y"
      }
    },
    {
      "cell_type": "code",
      "source": [
        "value=[]\n",
        "for x in range(1000, 3001):\n",
        "  digits=[int(i) for i in str(x)]\n",
        "  k=0\n",
        "  for j in range(len(digits)):\n",
        "    if digits[j]%2 ==0:\n",
        "      k+=1\n",
        "  if k==len(digits):\n",
        "    value.append(x)\n",
        "print(value)"
      ],
      "metadata": {
        "colab": {
          "base_uri": "https://localhost:8080/"
        },
        "id": "rPgiole0kDoP",
        "outputId": "00857cc5-c9b4-42a9-e281-cf25b742d558"
      },
      "execution_count": null,
      "outputs": [
        {
          "output_type": "stream",
          "name": "stdout",
          "text": [
            "[2000, 2002, 2004, 2006, 2008, 2020, 2022, 2024, 2026, 2028, 2040, 2042, 2044, 2046, 2048, 2060, 2062, 2064, 2066, 2068, 2080, 2082, 2084, 2086, 2088, 2200, 2202, 2204, 2206, 2208, 2220, 2222, 2224, 2226, 2228, 2240, 2242, 2244, 2246, 2248, 2260, 2262, 2264, 2266, 2268, 2280, 2282, 2284, 2286, 2288, 2400, 2402, 2404, 2406, 2408, 2420, 2422, 2424, 2426, 2428, 2440, 2442, 2444, 2446, 2448, 2460, 2462, 2464, 2466, 2468, 2480, 2482, 2484, 2486, 2488, 2600, 2602, 2604, 2606, 2608, 2620, 2622, 2624, 2626, 2628, 2640, 2642, 2644, 2646, 2648, 2660, 2662, 2664, 2666, 2668, 2680, 2682, 2684, 2686, 2688, 2800, 2802, 2804, 2806, 2808, 2820, 2822, 2824, 2826, 2828, 2840, 2842, 2844, 2846, 2848, 2860, 2862, 2864, 2866, 2868, 2880, 2882, 2884, 2886, 2888]\n"
          ]
        }
      ]
    },
    {
      "cell_type": "markdown",
      "source": [
        "Question 13: Write a program that accepts a sentence and calculate the number of letters and digits. Suppose the following input is supplied to the program: hello world! 123 Then, the output should be: LETTERS 10 DIGITS 3"
      ],
      "metadata": {
        "id": "uCIBmhMgmltH"
      }
    },
    {
      "cell_type": "code",
      "source": [
        "s=input()\n",
        "dic={\"DIGITS\":0, \"LETTERS\":0}\n",
        "for i in s:\n",
        "  if i.isdigit():\n",
        "    dic['DIGITS']+=1\n",
        "  elif i.isalpha():\n",
        "    dic['LETTERS']+=1     #+=1 should have 0 at first\n",
        "  else:\n",
        "    pass\n",
        "print('LETTERS', dic['LETTERS'], 'DIGITS',dic['DIGITS'])"
      ],
      "metadata": {
        "colab": {
          "base_uri": "https://localhost:8080/"
        },
        "id": "LTEV6swrmnEW",
        "outputId": "1c23f06c-d4f5-446d-8018-74f8645388e9"
      },
      "execution_count": null,
      "outputs": [
        {
          "output_type": "stream",
          "name": "stdout",
          "text": [
            "\"DIGITS\":0, \"LETTERS\":0\n",
            "LETTERS 13 DIGITS 2\n"
          ]
        }
      ]
    },
    {
      "cell_type": "markdown",
      "source": [
        "Question 14: Write a program that accepts a sentence and calculate the number of upper case letters and lower case letters. Suppose the following input is supplied to the program: Hello world! Then, the output should be: UPPER CASE 1 LOWER CASE 9"
      ],
      "metadata": {
        "id": "nLUXGNo05saP"
      }
    },
    {
      "cell_type": "code",
      "source": [],
      "metadata": {
        "id": "J4prgGY75v_J"
      },
      "execution_count": null,
      "outputs": []
    },
    {
      "cell_type": "markdown",
      "source": [
        "Question 15: Write a program that computes the value of a+aa+aaa+aaaa with a given digit as the value of a. Suppose the following input is supplied to the program: 9 Then, the output should be: 11106\n",
        "\n"
      ],
      "metadata": {
        "id": "E8-4qQxl53SB"
      }
    },
    {
      "cell_type": "code",
      "source": [
        "a=input()\n",
        "b=int(a)+int(a*2)+int(a*3)+int(a*4)\n",
        "print(b)"
      ],
      "metadata": {
        "colab": {
          "base_uri": "https://localhost:8080/"
        },
        "id": "OtqnSycx5-6T",
        "outputId": "84887577-03b0-459d-fc7a-eb8d150b1b40"
      },
      "execution_count": null,
      "outputs": [
        {
          "output_type": "stream",
          "name": "stdout",
          "text": [
            "9\n",
            "11106\n"
          ]
        }
      ]
    },
    {
      "cell_type": "markdown",
      "source": [
        "Question 16: Use a list comprehension to square each odd number in a list. The list is input by a sequence of comma-separated numbers. Suppose the following input is supplied to the program: 1,2,3,4,5,6,7,8,9 Then, the output should be: 1,3,5,7,9\n",
        "\n"
      ],
      "metadata": {
        "id": "zT_0wkY97XIr"
      }
    },
    {
      "cell_type": "code",
      "source": [
        "nums=[x for x in input().split(',') if int(x)%2!=0]\n",
        "print(';'.join(nums))       #The join() method takes all items in an iterable and joins them into one string.\n",
        "\n",
        "\n"
      ],
      "metadata": {
        "colab": {
          "base_uri": "https://localhost:8080/"
        },
        "id": "c2OrCdF07eEE",
        "outputId": "c5ba9cd2-8312-4cd2-a36b-57cc4ad7e01e"
      },
      "execution_count": null,
      "outputs": [
        {
          "output_type": "stream",
          "name": "stdout",
          "text": [
            "1,2,3,4,5,6,7,8,9 \n",
            "1;3;5;7;9 \n"
          ]
        }
      ]
    },
    {
      "cell_type": "markdown",
      "source": [
        "Question 17: Write a program that computes the net amount of a bank account based a transaction log from console input. The transaction log format is shown as following: D 100 W 200\n",
        "\n",
        "D means deposit while W means withdrawal. Suppose the following input is supplied to the program: D 300 D 300 W 200 D 100 Then, the output should be: 500"
      ],
      "metadata": {
        "id": "afg7Wnyt8szK"
      }
    },
    {
      "cell_type": "code",
      "source": [
        "trans=[x for x in input().split(' ')]\n",
        "net=0\n",
        "print(trans)\n",
        "for i in range(0,len(trans),2):\n",
        "  if trans[i] =='D':\n",
        "    net+=int(trans[i+1])\n",
        "  elif trans[i] =='W':\n",
        "    net-=int(trans[i+1])\n",
        "print(net)"
      ],
      "metadata": {
        "colab": {
          "base_uri": "https://localhost:8080/"
        },
        "id": "eDYxfmVt8uY_",
        "outputId": "b233c27a-70a7-4184-e5c5-dfa9e783ed00"
      },
      "execution_count": null,
      "outputs": [
        {
          "output_type": "stream",
          "name": "stdout",
          "text": [
            "D 300 D 300 W 200 D 100 \n",
            "['D', '300', 'D', '300', 'W', '200', 'D', '100', '']\n",
            "500\n"
          ]
        }
      ]
    },
    {
      "cell_type": "markdown",
      "source": [
        "Question 18: A website requires the users to input username and password to register. Write a program to check the validity of password input by users. Following are the criteria for checking the password:\n",
        "\n",
        "At least 1 letter between [a-z]\n",
        "At least 1 number between [0-9]\n",
        "At least 1 letter between [A-Z]\n",
        "At least 1 character from [$#@]\n",
        "Minimum length of transaction password: 6\n",
        "Maximum length of transaction password: 12 Your program should accept a sequence of comma separated passwords and will check them according to the above criteria. Passwords that match the criteria are to be printed, each separated by a comma. Example If the following passwords are given as input to the program: ABd1234@1,a F1#,2w3E*,2We3345 Then, the output of the program should be: ABd1234@1\n"
      ],
      "metadata": {
        "id": "c9O_gfTD-n9c"
      }
    },
    {
      "cell_type": "code",
      "source": [
        "import re\n",
        "value=[]\n",
        "pws=[x for x in input().split(',')]\n",
        "for i in pws:\n",
        "  if len(i)<6 or len(i)>12:\n",
        "    continue\n",
        "  if not re.search('[a-z]',i):\n",
        "    continue\n",
        "  if not re.search('[A-Z]',i):\n",
        "    continue\n",
        "  if not re.search('[0-9]',i):\n",
        "    continue\n",
        "  if not re.search('[$#@]',i):\n",
        "    continue\n",
        "  if re.search('\\s',i):\n",
        "    continue\n",
        "  else:\n",
        "    value.append(i)\n",
        "print(value)"
      ],
      "metadata": {
        "colab": {
          "base_uri": "https://localhost:8080/"
        },
        "id": "DSF1nJFb-2t-",
        "outputId": "aae5382a-0dff-4209-d59c-a92f436a797c"
      },
      "execution_count": null,
      "outputs": [
        {
          "output_type": "stream",
          "name": "stdout",
          "text": [
            "ABd1234@1,a F1#,2w3E*,2We3345\n",
            "['ABd1234@1']\n"
          ]
        }
      ]
    },
    {
      "cell_type": "markdown",
      "source": [
        "Question 19: You are required to write a program to sort the (name, age, height) tuples by ascending order where name is string, age and height are numbers. The tuples are input by console. The sort criteria is: 1: Sort based on name; 2: Then sort based on age; 3: Then sort by score. The priority is that name > age > score. If the following tuples are given as input to the program: Tom,19,80 John,20,90 Jony,17,91 Jony,17,93 Json,21,85 Then, the output of the program should be: [('John', '20', '90'), ('Jony', '17', '91'), ('Jony', '17', '93'), ('Json', '21', '85'), ('Tom', '19', '80')]"
      ],
      "metadata": {
        "id": "gcsMKnleOyWv"
      }
    },
    {
      "cell_type": "code",
      "source": [
        "from operator import itemgetter \n",
        "\n",
        "l = []\n",
        "while True:\n",
        "    s = input()\n",
        "    if not s:\n",
        "        break\n",
        "    l.append(tuple(s.split(\",\")))\n",
        "\n",
        "print(sorted(l, key=itemgetter(0,1,2)))"
      ],
      "metadata": {
        "id": "WK92-m8HO1Zx",
        "colab": {
          "base_uri": "https://localhost:8080/"
        },
        "outputId": "1751b9e2-c87d-41a3-8363-b7d760fe3b9c"
      },
      "execution_count": null,
      "outputs": [
        {
          "output_type": "stream",
          "name": "stdout",
          "text": [
            "Jony,17,93\n",
            "\n",
            "[('Jony', '17', '93')]\n"
          ]
        }
      ]
    },
    {
      "cell_type": "markdown",
      "source": [
        "Question 20: Define a class with a generator which can iterate the numbers, which are divisible by 7, between a given range 0 and n."
      ],
      "metadata": {
        "id": "J8U_6NlbgW3R"
      }
    },
    {
      "cell_type": "code",
      "source": [],
      "metadata": {
        "colab": {
          "base_uri": "https://localhost:8080/"
        },
        "id": "-biCXfFLgZ7Z",
        "outputId": "93b2ca4e-c74b-4f3b-b65b-728e88da702a"
      },
      "execution_count": null,
      "outputs": [
        {
          "output_type": "stream",
          "name": "stdout",
          "text": [
            "<class 'list'>\n"
          ]
        }
      ]
    },
    {
      "cell_type": "markdown",
      "source": [
        "Question 21: A robot moves in a plane starting from the original point (0,0). The robot can move toward UP, DOWN, LEFT and RIGHT with a given steps. The trace of robot movement is shown as the following: UP 5 DOWN 3 LEFT 3 RIGHT 2 ¡­ The numbers after the direction are steps. Please write a program to compute the distance from current position after a sequence of movement and original point. If the distance is a float, then just print the nearest integer. Example: If the following tuples are given as input to the program: UP 5 DOWN 3 LEFT 3 RIGHT 2 Then, the output of the program should be: 2"
      ],
      "metadata": {
        "id": "gc1ZdNKtj2Ma"
      }
    },
    {
      "cell_type": "code",
      "source": [
        "import math\n",
        "pos=[0,0]\n",
        "while True:\n",
        "  s=input()\n",
        "  if not s:\n",
        "    break\n",
        "  movement=s.split(' ')\n",
        "  dic=movement[0]\n",
        "  step=int(movement[1])\n",
        "  if dic=='UP':\n",
        "    pos[0]+=step\n",
        "  elif dic=='DOWN':\n",
        "    pos[0]-=step\n",
        "  elif dic=='LEFT':\n",
        "    pos[1]-=step\n",
        "  elif dic=='RIGHT':\n",
        "    pos[1]+=step\n",
        "  else:\n",
        "    pass\n",
        "print(int(round(math.sqrt(pos[0]**2+pos[1]**2))))"
      ],
      "metadata": {
        "colab": {
          "base_uri": "https://localhost:8080/"
        },
        "id": "FUGMhoBFj5bL",
        "outputId": "3d9e4b92-9ad4-4d3b-d611-9cc33e34338c"
      },
      "execution_count": null,
      "outputs": [
        {
          "output_type": "stream",
          "name": "stdout",
          "text": [
            "UP 5\n",
            "LEFT 5\n",
            "\n",
            "7\n"
          ]
        }
      ]
    },
    {
      "cell_type": "markdown",
      "source": [
        "Question 22: Write a program to compute the frequency of the words from the input. The output should output after sorting the key alphanumerically. Suppose the following input is supplied to the program: New to Python or choosing between Python 2 and Python 3? Read Python 2 or Python 3. Then, the output should be: 2:2 3.:1 3?:1 New:1 Python:5 Read:1 and:1 between:1 choosing:1 or:2 to:1\n",
        "\n"
      ],
      "metadata": {
        "id": "-vGYFM7nxgJW"
      }
    },
    {
      "cell_type": "code",
      "source": [
        "import collections\n",
        "s=input()\n",
        "list1=s.split(' ')\n",
        "collections.Counter(list1)"
      ],
      "metadata": {
        "colab": {
          "base_uri": "https://localhost:8080/"
        },
        "id": "tJz9I-HExjij",
        "outputId": "45f91070-04ee-486c-da57-1153fc25a397"
      },
      "execution_count": null,
      "outputs": [
        {
          "name": "stdout",
          "output_type": "stream",
          "text": [
            "New to Python or choosing between Python 2 and Python 3\n"
          ]
        },
        {
          "output_type": "execute_result",
          "data": {
            "text/plain": [
              "Counter({'2': 1,\n",
              "         '3': 1,\n",
              "         'New': 1,\n",
              "         'Python': 3,\n",
              "         'and': 1,\n",
              "         'between': 1,\n",
              "         'choosing': 1,\n",
              "         'or': 1,\n",
              "         'to': 1})"
            ]
          },
          "metadata": {},
          "execution_count": 10
        }
      ]
    },
    {
      "cell_type": "markdown",
      "source": [
        "Question 23: Write a method which can calculate square value of number"
      ],
      "metadata": {
        "id": "IGJ7AbvE1oG9"
      }
    },
    {
      "cell_type": "code",
      "source": [
        "def square(n):\n",
        "  return n**2\n",
        "print(square(9))"
      ],
      "metadata": {
        "colab": {
          "base_uri": "https://localhost:8080/"
        },
        "id": "6dre9uzF2ke1",
        "outputId": "66a89ef8-a7f5-42db-9cb4-6a434b726ef1"
      },
      "execution_count": null,
      "outputs": [
        {
          "output_type": "stream",
          "name": "stdout",
          "text": [
            "81\n"
          ]
        }
      ]
    },
    {
      "cell_type": "markdown",
      "source": [
        "Question 25: Define a class, which have a class parameter and have a same instance parameter."
      ],
      "metadata": {
        "id": "DRW0pP4_2ubJ"
      }
    },
    {
      "cell_type": "code",
      "source": [
        "class person:\n",
        "  name='AB'\n",
        "  \n",
        "  def __init__(self,name):\n",
        "    self.name=name\n",
        "\n",
        "AC = person('AC')\n",
        "print('%s name is %s' % (person.name, AC.name))"
      ],
      "metadata": {
        "colab": {
          "base_uri": "https://localhost:8080/"
        },
        "id": "heXKQIx6-tKd",
        "outputId": "c278dfea-0724-4116-d84f-8f9ed3be39ea"
      },
      "execution_count": null,
      "outputs": [
        {
          "output_type": "stream",
          "name": "stdout",
          "text": [
            "AB name is AC\n"
          ]
        }
      ]
    },
    {
      "cell_type": "code",
      "source": [
        "class Person:\n",
        "    # Define the class parameter \"name\"\n",
        "    name = \"Person\"\n",
        "    \n",
        "    def __init__(self, name = None):\n",
        "        # self.name is the instance parameter\n",
        "        self.name = name\n",
        "\n",
        "jeffrey = Person(\"Jeffrey\")\n",
        "print(\"%s name is %s\" % (Person.name, jeffrey.name))"
      ],
      "metadata": {
        "colab": {
          "base_uri": "https://localhost:8080/"
        },
        "id": "PA02YiHH_zDl",
        "outputId": "db278d91-bf48-4170-b632-ecb1a326812e"
      },
      "execution_count": null,
      "outputs": [
        {
          "output_type": "stream",
          "name": "stdout",
          "text": [
            "Person name is Jeffrey\n"
          ]
        }
      ]
    },
    {
      "cell_type": "markdown",
      "source": [
        "Question 26:\n",
        "\n",
        "Define a function which can compute the sum of two numbers."
      ],
      "metadata": {
        "id": "BD_vKHgcD_74"
      }
    },
    {
      "cell_type": "code",
      "source": [
        "def sum(n1,n2):\n",
        "  return n1+n2\n",
        "\n",
        "print(sum(4,5))"
      ],
      "metadata": {
        "colab": {
          "base_uri": "https://localhost:8080/"
        },
        "id": "vbZYrax5ECwt",
        "outputId": "64b4aada-5b0f-4ca2-8e62-2e44131861ab"
      },
      "execution_count": null,
      "outputs": [
        {
          "output_type": "stream",
          "name": "stdout",
          "text": [
            "9\n"
          ]
        }
      ]
    },
    {
      "cell_type": "markdown",
      "source": [
        "Question 27\n",
        "\n",
        "Define a function that can convert a integer into a string and print it in console."
      ],
      "metadata": {
        "id": "j5wn_8a6ctEU"
      }
    },
    {
      "cell_type": "code",
      "source": [
        "def convert(n):\n",
        "  print(str(n))\n",
        "\n",
        "convert(9)"
      ],
      "metadata": {
        "colab": {
          "base_uri": "https://localhost:8080/"
        },
        "id": "PI2ad140cuyp",
        "outputId": "dace876e-32ef-48d7-b059-8925111d11b0"
      },
      "execution_count": null,
      "outputs": [
        {
          "output_type": "stream",
          "name": "stdout",
          "text": [
            "9\n"
          ]
        }
      ]
    },
    {
      "cell_type": "markdown",
      "source": [
        "Question 29\n",
        "\n",
        "Define a function that can receive two integral numbers in string form and compute their sum and then print it in console.\n",
        "\n"
      ],
      "metadata": {
        "id": "UfqNVkezdEeS"
      }
    },
    {
      "cell_type": "code",
      "source": [
        "def sum(s1,s2):\n",
        "  print(int(s1)+int(s2))"
      ],
      "metadata": {
        "id": "DMGOt5TpdE-2"
      },
      "execution_count": null,
      "outputs": []
    },
    {
      "cell_type": "markdown",
      "source": [
        "Question 30\n",
        "\n",
        "Define a function that can accept two strings as input and concatenate them and then print it in console."
      ],
      "metadata": {
        "id": "DDz9_zPMdPjZ"
      }
    },
    {
      "cell_type": "code",
      "source": [
        "def concatenate(s1,s2):\n",
        "  print(s1+s2)"
      ],
      "metadata": {
        "id": "dnQdz87_dQJd"
      },
      "execution_count": null,
      "outputs": []
    },
    {
      "cell_type": "markdown",
      "source": [
        "Question 31\n",
        "\n",
        "Define a function that can accept two strings as input and print the string with maximum length in console. If two strings have the same length, then the function should print al l strings line by line.\n",
        "\n"
      ],
      "metadata": {
        "id": "vPqFlxnWdcfV"
      }
    },
    {
      "cell_type": "code",
      "source": [
        "def printvalue(s1,s2):\n",
        "  if len(s1)>len(s2):\n",
        "    print(s1)\n",
        "  elif len(s1)<len(s2):\n",
        "    print(s2)\n",
        "  else:\n",
        "    print(s1)\n",
        "    print(s2)\n",
        "\n",
        "printvalue('diej;sld','dd')"
      ],
      "metadata": {
        "colab": {
          "base_uri": "https://localhost:8080/"
        },
        "id": "boznsdT1ddlo",
        "outputId": "08433feb-cfd5-4e80-b395-cab531205d03"
      },
      "execution_count": null,
      "outputs": [
        {
          "output_type": "stream",
          "name": "stdout",
          "text": [
            "diej;sld\n"
          ]
        }
      ]
    },
    {
      "cell_type": "markdown",
      "source": [
        "Question 32\n",
        "\n",
        "Define a function that can accept an integer number as input and print the \"It is an even number\" if the number is even, otherwise print \"It is an odd number\"."
      ],
      "metadata": {
        "id": "630tyWeZitNc"
      }
    },
    {
      "cell_type": "code",
      "source": [
        "def printnumber(n):\n",
        "  if n%2==0:\n",
        "    print('even number')\n",
        "  else:\n",
        "    print('odd number')\n",
        "\n",
        "printnumber(9)"
      ],
      "metadata": {
        "colab": {
          "base_uri": "https://localhost:8080/"
        },
        "id": "HPkr0kUuit9W",
        "outputId": "c8b2c590-f812-4611-f49a-f4ace7ee9fe1"
      },
      "execution_count": null,
      "outputs": [
        {
          "output_type": "stream",
          "name": "stdout",
          "text": [
            "odd number\n"
          ]
        }
      ]
    },
    {
      "cell_type": "markdown",
      "source": [
        "Question 33\n",
        "Define a function which can print a dictionary where the keys are numbers between 1 and 3 (both included) and the values are square of keys.\n"
      ],
      "metadata": {
        "id": "xAbwVzWRjDNj"
      }
    },
    {
      "cell_type": "code",
      "source": [
        "def printdic():\n",
        "  dic={}\n",
        "  for i in range(1,4):\n",
        "    dic[i]=i**2\n",
        "  print(dic)\n",
        "\n",
        "printdic()"
      ],
      "metadata": {
        "colab": {
          "base_uri": "https://localhost:8080/"
        },
        "id": "SOjJncVGjEWM",
        "outputId": "64b56d29-d370-4d92-b182-1971f2ee4412"
      },
      "execution_count": null,
      "outputs": [
        {
          "output_type": "stream",
          "name": "stdout",
          "text": [
            "{1: 1, 2: 4, 3: 9}\n"
          ]
        }
      ]
    },
    {
      "cell_type": "markdown",
      "source": [
        "Question 34\n",
        "\n",
        "Define a function which can print a dictionary where the keys are numbers between 1 and 20 (both included) and the values are square of keys."
      ],
      "metadata": {
        "id": "CvbQcJbnk8GI"
      }
    },
    {
      "cell_type": "code",
      "source": [],
      "metadata": {
        "id": "70C3eiGvk9Lx"
      },
      "execution_count": null,
      "outputs": []
    },
    {
      "cell_type": "markdown",
      "source": [
        "Question 35\n",
        "\n",
        "Define a function which can generate a dictionary where the keys are numbers between 1 and 20 (both included) and the values are square of keys. The function should just print the values only."
      ],
      "metadata": {
        "id": "i50xyZckl6D_"
      }
    },
    {
      "cell_type": "code",
      "source": [
        "def printdic():\n",
        "  dic={}\n",
        "  for i in range(1,4):\n",
        "    dic[i]=i**2\n",
        "  print(dic.values())\n",
        "\n",
        "printdic()\n",
        "#\n",
        "# You can use the keys() method to return the keys of a dictionary:\n",
        "# You can also use the values() method to return values of a dictionary:\n",
        "# Loop through both keys and values, by using the items() method:    \n",
        "#       for x, y in thisdict.items():\n",
        "#         print(x, y)"
      ],
      "metadata": {
        "colab": {
          "base_uri": "https://localhost:8080/"
        },
        "id": "uOaADAWwl9al",
        "outputId": "55b6374e-1f1c-41f8-afd6-d435b0576e15"
      },
      "execution_count": null,
      "outputs": [
        {
          "output_type": "stream",
          "name": "stdout",
          "text": [
            "dict_values([1, 4, 9])\n"
          ]
        }
      ]
    },
    {
      "cell_type": "markdown",
      "source": [
        "Question 36\n",
        "\n",
        "Define a function which can generate a dictionary where the keys are numbers between 1 and 20 (both included) and the values are square of keys. The function should just print the keys only."
      ],
      "metadata": {
        "id": "SVZ-tDsdnYFp"
      }
    },
    {
      "cell_type": "code",
      "source": [
        "def printdic():\n",
        "  dic={}\n",
        "  for i in range(1,4):\n",
        "    dic[i]=i**2\n",
        "  for x in dic.keys():\n",
        "    print(x)\n",
        "\n",
        "printdic()\n"
      ],
      "metadata": {
        "colab": {
          "base_uri": "https://localhost:8080/"
        },
        "id": "4za1s0Gpn6_S",
        "outputId": "6201fdaf-8b05-435b-a413-cbf1bdf4f0ce"
      },
      "execution_count": null,
      "outputs": [
        {
          "output_type": "stream",
          "name": "stdout",
          "text": [
            "1\n",
            "2\n",
            "3\n"
          ]
        }
      ]
    },
    {
      "cell_type": "markdown",
      "source": [
        "Question 37\n",
        "\n",
        "Define a function which can generate and print a list where the values are square of numbers between 1 and 20 (both included)."
      ],
      "metadata": {
        "id": "3X63aVfRnxhj"
      }
    },
    {
      "cell_type": "code",
      "source": [
        "def printnumber():\n",
        "  l=[]\n",
        "  for i in range (1,21):\n",
        "    l.append(i**2)\n",
        "  print(l)\n",
        "\n",
        "printnumber()"
      ],
      "metadata": {
        "colab": {
          "base_uri": "https://localhost:8080/"
        },
        "id": "yQdQKTlqnyH0",
        "outputId": "e9c0a03f-54c9-4f6c-84ac-5af8e75a8b64"
      },
      "execution_count": null,
      "outputs": [
        {
          "output_type": "stream",
          "name": "stdout",
          "text": [
            "[1, 4, 9, 16, 25, 36, 49, 64, 81, 100, 121, 144, 169, 196, 225, 256, 289, 324, 361, 400]\n"
          ]
        }
      ]
    },
    {
      "cell_type": "markdown",
      "source": [
        "Question 38\n",
        "\n",
        "Define a function which can generate a list where the values are square of numbers between 1 and 20 (both included). Then the function needs to print the first 5 elements in the list."
      ],
      "metadata": {
        "id": "h472H--bogkT"
      }
    },
    {
      "cell_type": "code",
      "source": [
        "def printdic():\n",
        "  l=[]\n",
        "  for i in range (1,21):\n",
        "    l.append(i**2)\n",
        "  print(l[:5])\n",
        "\n",
        "printdic()"
      ],
      "metadata": {
        "colab": {
          "base_uri": "https://localhost:8080/"
        },
        "id": "49i3anw8ohxo",
        "outputId": "87c046c9-4136-423c-bfd3-544ea48692a2"
      },
      "execution_count": null,
      "outputs": [
        {
          "output_type": "stream",
          "name": "stdout",
          "text": [
            "[1, 4, 9, 16, 25]\n"
          ]
        }
      ]
    },
    {
      "cell_type": "markdown",
      "source": [
        "Question 39\n",
        "\n",
        "Define a function which can generate a list where the values are square of numbers between 1 and 20 (both included). Then the function needs to print the last 5 elements in the list."
      ],
      "metadata": {
        "id": "8Hx-GZyHq8nD"
      }
    },
    {
      "cell_type": "code",
      "source": [
        "def printdic():\n",
        "  l=[]\n",
        "  for i in range (1,21):\n",
        "    l.append(i**2)\n",
        "  print(l[-5:])\n",
        "\n",
        "printdic()"
      ],
      "metadata": {
        "colab": {
          "base_uri": "https://localhost:8080/"
        },
        "id": "R8Jdtpzcq9Gl",
        "outputId": "86bd923b-7c6c-4cdf-a734-ce49a3549fa7"
      },
      "execution_count": null,
      "outputs": [
        {
          "output_type": "stream",
          "name": "stdout",
          "text": [
            "[256, 289, 324, 361, 400]\n"
          ]
        }
      ]
    },
    {
      "cell_type": "markdown",
      "source": [
        "Question 40\n",
        "\n",
        "Define a function which can generate a list where the values are square of numbers between 1 and 20 (both included). Then the function needs to print all values except the first 5 elements in the list.\n",
        "\n"
      ],
      "metadata": {
        "id": "UyD0PuvIrPJi"
      }
    },
    {
      "cell_type": "code",
      "source": [
        "def printdic():\n",
        "  l=[]\n",
        "  for i in range (1,21):\n",
        "    l.append(i**2)\n",
        "  print(l[5:])\n",
        "\n",
        "printdic()"
      ],
      "metadata": {
        "colab": {
          "base_uri": "https://localhost:8080/"
        },
        "id": "QRjgUg_grPyv",
        "outputId": "0f29f4af-7b25-45ed-da81-e89d49d5aaaa"
      },
      "execution_count": null,
      "outputs": [
        {
          "output_type": "stream",
          "name": "stdout",
          "text": [
            "[36, 49, 64, 81, 100, 121, 144, 169, 196, 225, 256, 289, 324, 361, 400]\n"
          ]
        }
      ]
    },
    {
      "cell_type": "markdown",
      "source": [
        "Question 41\n",
        "\n",
        "Define a function which can generate and print a tuple where the value are square of numbers between 1 and 20 (both included).\n",
        "\n"
      ],
      "metadata": {
        "id": "iQqc4qMHrmro"
      }
    },
    {
      "cell_type": "code",
      "source": [
        "def printnumber():\n",
        "  l=[]\n",
        "  for i in range (1,21):\n",
        "    l.append(i**2)\n",
        "  t=tuple(l)\n",
        "  print(tuple(t))\n",
        "  print(type(t))\n",
        "\n",
        "printnumber()"
      ],
      "metadata": {
        "colab": {
          "base_uri": "https://localhost:8080/"
        },
        "id": "mS9OY06ErnUL",
        "outputId": "47428685-7866-49a3-9380-fff437c06e22"
      },
      "execution_count": null,
      "outputs": [
        {
          "output_type": "stream",
          "name": "stdout",
          "text": [
            "(1, 4, 9, 16, 25, 36, 49, 64, 81, 100, 121, 144, 169, 196, 225, 256, 289, 324, 361, 400)\n",
            "<class 'tuple'>\n"
          ]
        }
      ]
    },
    {
      "cell_type": "markdown",
      "source": [
        "Question 42\n",
        "\n",
        "With a given tuple (1,2,3,4,5,6,7,8,9,10), write a program to print the first half values in one line and the last half values in one line.\n",
        "\n"
      ],
      "metadata": {
        "id": "nGgYQp8Isgw4"
      }
    },
    {
      "cell_type": "code",
      "source": [
        "tp=(1,2,3,4,5,6,7,8,9,10)\n",
        "print(tp[:5])\n",
        "print(tp[5:])"
      ],
      "metadata": {
        "colab": {
          "base_uri": "https://localhost:8080/"
        },
        "id": "vB13bCxlshpp",
        "outputId": "8b5d4009-09cb-4bdf-8608-33feed5ab08f"
      },
      "execution_count": null,
      "outputs": [
        {
          "output_type": "stream",
          "name": "stdout",
          "text": [
            "(1, 2, 3, 4, 5)\n",
            "(6, 7, 8, 9, 10)\n"
          ]
        }
      ]
    },
    {
      "cell_type": "markdown",
      "source": [
        "Question 43\n",
        "\n",
        "Write a program to generate and print another tuple whose values are even numbers in the given tuple (1,2,3,4,5,6,7,8,9,10).\n",
        "\n"
      ],
      "metadata": {
        "id": "xFoua6W-sxXs"
      }
    },
    {
      "cell_type": "code",
      "source": [
        "tp=(1,2,3,4,5,6,7,8,9,10)\n",
        "lst=[x for x in tp if x%2==0]\n",
        "print(lst)"
      ],
      "metadata": {
        "colab": {
          "base_uri": "https://localhost:8080/"
        },
        "id": "aS0tXvHOs8sr",
        "outputId": "f6df7d80-27b5-4f45-de5c-74e79edca497"
      },
      "execution_count": null,
      "outputs": [
        {
          "output_type": "stream",
          "name": "stdout",
          "text": [
            "[2, 4, 6, 8, 10]\n"
          ]
        }
      ]
    },
    {
      "cell_type": "markdown",
      "source": [
        "Question 44\n",
        "\n",
        "Write a program which accepts a string as input to print \"Yes\" if the string is \"yes\" or \"YES\" or \"Yes\", otherwise print \"No\"."
      ],
      "metadata": {
        "id": "uC_aRQg4t7pd"
      }
    },
    {
      "cell_type": "code",
      "source": [
        "s=input()\n",
        "if s.upper()=='YES':\n",
        "  print('Yes')\n",
        "else:\n",
        "  print('No')"
      ],
      "metadata": {
        "colab": {
          "base_uri": "https://localhost:8080/"
        },
        "id": "PE5O6quat8Uc",
        "outputId": "f7d58b93-21ed-4ee7-c6ef-f885b3275364"
      },
      "execution_count": null,
      "outputs": [
        {
          "output_type": "stream",
          "name": "stdout",
          "text": [
            "die\n",
            "No\n"
          ]
        }
      ]
    },
    {
      "cell_type": "markdown",
      "source": [
        "Question 45\n",
        "\n",
        "Write a program which can filter even numbers in a list by using filter function. The list is: [1,2,3,4,5,6,7,8,9,10].\n",
        "\n"
      ],
      "metadata": {
        "id": "9UWnbWsLub8b"
      }
    },
    {
      "cell_type": "code",
      "source": [
        "# filter(function, iterable)\n",
        "del list\n",
        "l=[1,2,3,4,5,6,7,8,9,10]\n",
        "even=list(filter(lambda x: x%2==0, l))\n",
        "print(even)"
      ],
      "metadata": {
        "colab": {
          "base_uri": "https://localhost:8080/"
        },
        "id": "Lock2HgxucvP",
        "outputId": "f7ae346d-0795-4765-908f-a99a368ac56e"
      },
      "execution_count": null,
      "outputs": [
        {
          "output_type": "stream",
          "name": "stdout",
          "text": [
            "[2, 4, 6, 8, 10]\n"
          ]
        }
      ]
    },
    {
      "cell_type": "markdown",
      "source": [
        "Question 46\n",
        "\n",
        "Write a program which can map() to make a list whose elements are square of elements in [1,2,3,4,5,6,7,8,9,10]."
      ],
      "metadata": {
        "id": "Jbo0Jikfy9OM"
      }
    },
    {
      "cell_type": "code",
      "source": [
        "l=[1,2,3,4,5,6,7,8,9,10]\n",
        "sqr = list(map(lambda x: x**2, l)) \n",
        "print(sqr)"
      ],
      "metadata": {
        "colab": {
          "base_uri": "https://localhost:8080/"
        },
        "id": "XmwBY-ORy-LP",
        "outputId": "919c92ba-cdbc-4627-d91d-f35c674151b7"
      },
      "execution_count": null,
      "outputs": [
        {
          "output_type": "stream",
          "name": "stdout",
          "text": [
            "[1, 4, 9, 16, 25, 36, 49, 64, 81, 100]\n"
          ]
        }
      ]
    },
    {
      "cell_type": "code",
      "source": [
        "fibonacci = [0,1,1,2,3,5,8,13,21,34,55]\n",
        "odd_numbers = list(filter(lambda x: x % 2, fibonacci))\n",
        "print(odd_numbers)"
      ],
      "metadata": {
        "colab": {
          "base_uri": "https://localhost:8080/"
        },
        "id": "ct7JF6BX36q0",
        "outputId": "832414b6-dff9-455f-a49e-9e54a2f40514"
      },
      "execution_count": null,
      "outputs": [
        {
          "output_type": "stream",
          "name": "stdout",
          "text": [
            "[1, 1, 3, 5, 13, 21, 55]\n"
          ]
        }
      ]
    },
    {
      "cell_type": "markdown",
      "source": [
        "Question 47\n",
        "\n",
        "Write a program which can map() and filter() to make a list whose elements are square of even number in [1,2,3,4,5,6,7,8,9,10]."
      ],
      "metadata": {
        "id": "jsN_qETN59Km"
      }
    },
    {
      "cell_type": "code",
      "source": [
        "l=[1,2,3,4,5,6,7,8,9,10]\n",
        "newl=list(map(lambda x: x**2, filter(lambda x:x%2==0,l)))\n",
        "print(newl)"
      ],
      "metadata": {
        "colab": {
          "base_uri": "https://localhost:8080/"
        },
        "id": "t-TJKmgz59oj",
        "outputId": "39cecfd5-3663-477d-e15c-3582f5fe3b20"
      },
      "execution_count": null,
      "outputs": [
        {
          "output_type": "stream",
          "name": "stdout",
          "text": [
            "[4, 16, 36, 64, 100]\n"
          ]
        }
      ]
    },
    {
      "cell_type": "markdown",
      "source": [
        "Question 48\n",
        "\n",
        "Write a program which can filter() to make a list whose elements are even number between 1 and 20 (both included)."
      ],
      "metadata": {
        "id": "I-RY83Jo7VrF"
      }
    },
    {
      "cell_type": "code",
      "source": [
        "even=list(filter(lambda x: x%2==0, range(1,21)))\n",
        "print(even)"
      ],
      "metadata": {
        "colab": {
          "base_uri": "https://localhost:8080/"
        },
        "id": "Z1dDpz7E7xGn",
        "outputId": "13038651-ff84-405d-e6e4-0c135e89d328"
      },
      "execution_count": null,
      "outputs": [
        {
          "output_type": "stream",
          "name": "stdout",
          "text": [
            "[2, 4, 6, 8, 10, 12, 14, 16, 18, 20]\n"
          ]
        }
      ]
    },
    {
      "cell_type": "markdown",
      "source": [
        "Question 49\n",
        "\n",
        "Write a program which can map() to make a list whose elements are square of numbers between 1 and 20 (both included)."
      ],
      "metadata": {
        "id": "ypna4SVh8FEf"
      }
    },
    {
      "cell_type": "code",
      "source": [
        "sqr=list(map(lambda x: x**2, range(1,21)))\n",
        "print(sqr)"
      ],
      "metadata": {
        "colab": {
          "base_uri": "https://localhost:8080/"
        },
        "id": "WGj-bdWl8Fos",
        "outputId": "2ac5ca5a-4c8a-48b7-c8d9-5eaf303492d1"
      },
      "execution_count": null,
      "outputs": [
        {
          "output_type": "stream",
          "name": "stdout",
          "text": [
            "[1, 4, 9, 16, 25, 36, 49, 64, 81, 100, 121, 144, 169, 196, 225, 256, 289, 324, 361, 400]\n"
          ]
        }
      ]
    },
    {
      "cell_type": "markdown",
      "source": [
        "Question 50\n",
        "\n",
        "Define a class named American which has a static method called printNationality."
      ],
      "metadata": {
        "id": "kNCPg4wI8eX0"
      }
    },
    {
      "cell_type": "code",
      "source": [
        "class American(object):\n",
        "  1"
      ],
      "metadata": {
        "id": "Trbj5JHG8fC0"
      },
      "execution_count": null,
      "outputs": []
    },
    {
      "cell_type": "markdown",
      "source": [
        "Question 51\n",
        "\n",
        "Define a class named American and its subclass NewYorker."
      ],
      "metadata": {
        "id": "hLZIKViMW5vd"
      }
    },
    {
      "cell_type": "markdown",
      "source": [
        "Question 52\n",
        "\n",
        "Define a class named Circle which can be constructed by a radius. The Circle class has a method which can compute the area."
      ],
      "metadata": {
        "id": "KJaKxgX9W-tL"
      }
    },
    {
      "cell_type": "code",
      "source": [
        "class circle:\n",
        "  def __init__(self,r):\n",
        "    self.radius=r\n",
        "  \n",
        "  def area(self,r):\n",
        "    return r**2*3.14\n",
        "\n",
        "c=circle(1)\n",
        "c.area(4)"
      ],
      "metadata": {
        "colab": {
          "base_uri": "https://localhost:8080/"
        },
        "id": "scoixgOZW_Mv",
        "outputId": "81ac75f0-22a3-418d-8a85-e63a193d001c"
      },
      "execution_count": null,
      "outputs": [
        {
          "output_type": "execute_result",
          "data": {
            "text/plain": [
              "50.24"
            ]
          },
          "metadata": {},
          "execution_count": 8
        }
      ]
    },
    {
      "cell_type": "markdown",
      "source": [
        "Question 53\n",
        "\n",
        "Define a class named Rectangle which can be constructed by a length and width. The Rectangle class has a method which can compute the area."
      ],
      "metadata": {
        "id": "xR5ruCEqnyZK"
      }
    },
    {
      "cell_type": "code",
      "source": [
        "class rectangle:\n",
        "  def __init__ (self, l, w):\n",
        "    self.length=l\n",
        "    self.width=w\n",
        "  def area(self):\n",
        "    return self.length*self.width\n",
        "\n",
        "r=rectangle(3,4)\n",
        "r.area()"
      ],
      "metadata": {
        "colab": {
          "base_uri": "https://localhost:8080/"
        },
        "id": "GgsDGAO5tZ7Q",
        "outputId": "0df190a6-8190-4399-b310-72bd9fce203b"
      },
      "execution_count": null,
      "outputs": [
        {
          "output_type": "execute_result",
          "data": {
            "text/plain": [
              "12"
            ]
          },
          "metadata": {},
          "execution_count": 9
        }
      ]
    },
    {
      "cell_type": "markdown",
      "source": [
        "Question 54\n",
        "\n",
        "Define a class named Shape and its subclass Square. The Square class has an init function which takes a length as argument. Both classes have a area function which can print the area of the shape where Shape's area is 0 by default.\n",
        "\n"
      ],
      "metadata": {
        "id": "15MTRK0IvGjV"
      }
    },
    {
      "cell_type": "code",
      "source": [
        "class shape:\n",
        "  def __init__(self):\n",
        "    pass\n",
        "  def area(self):\n",
        "    return 0\n",
        "  \n",
        "class Square(shape):\n",
        "  def __init__(self,l):\n",
        "    shape.__init__ (self)\n",
        "    self.length=l\n",
        "\n",
        "  def area(self):\n",
        "    return self.length**2\n",
        "\n",
        "s=Square(3)\n",
        "s.area()"
      ],
      "metadata": {
        "colab": {
          "base_uri": "https://localhost:8080/"
        },
        "id": "lT8OP26KvHQZ",
        "outputId": "cefdc493-a838-4cfa-8718-d721f42db18d"
      },
      "execution_count": null,
      "outputs": [
        {
          "output_type": "execute_result",
          "data": {
            "text/plain": [
              "9"
            ]
          },
          "metadata": {},
          "execution_count": 10
        }
      ]
    },
    {
      "cell_type": "markdown",
      "source": [
        "Question 55\n",
        "\n",
        "Please raise a RuntimeError exception."
      ],
      "metadata": {
        "id": "qrUDl_0x5og_"
      }
    },
    {
      "cell_type": "code",
      "source": [
        "raise RuntimeError('something wrong')\n"
      ],
      "metadata": {
        "id": "DHT6zxxH5o6f"
      },
      "execution_count": null,
      "outputs": []
    },
    {
      "cell_type": "markdown",
      "source": [
        "Question 58\n",
        "\n",
        "Assuming that we have some email addresses in the \"username@companyname.com\" format, please write program to print the user name of a given email address. Both user names and company names are composed of letters only.\n",
        "\n",
        "Example: If the following email address is given as input to the program:\n",
        "\n",
        "john@google.com\n",
        "\n",
        "Then, the output of the program should be:\n",
        "\n",
        "john\n",
        "\n",
        "In case of input data being supplied to the question, it should be assumed to be a console input."
      ],
      "metadata": {
        "id": "uTocFZLJ73Cy"
      }
    },
    {
      "cell_type": "code",
      "source": [
        "s=input()\n",
        "index=s.find('@')\n",
        "print(s[:index])\n"
      ],
      "metadata": {
        "colab": {
          "base_uri": "https://localhost:8080/"
        },
        "id": "LMowp5Fy77If",
        "outputId": "859a9f4e-4a15-4ccf-afdf-f8c5a765a4d6"
      },
      "execution_count": null,
      "outputs": [
        {
          "output_type": "stream",
          "name": "stdout",
          "text": [
            "username@companyname.com\n",
            "username\n"
          ]
        }
      ]
    },
    {
      "cell_type": "markdown",
      "source": [
        "Question 59\n",
        "\n",
        "Assuming that we have some email addresses in the \"username@companyname.com\" format, please write program to print the company name of a given email address. Both user names and company names are composed of letters only.\n",
        "\n"
      ],
      "metadata": {
        "id": "KLln22IFYUTF"
      }
    },
    {
      "cell_type": "markdown",
      "source": [
        "Question 60\n",
        "\n",
        "Write a program which accepts a sequence of words separated by whitespace as input to print the words composed of digits only."
      ],
      "metadata": {
        "id": "8bH0zyjsYVdB"
      }
    },
    {
      "cell_type": "code",
      "source": [],
      "metadata": {
        "id": "7TTmd5InYYo5"
      },
      "execution_count": null,
      "outputs": []
    },
    {
      "cell_type": "markdown",
      "source": [
        "Question 64\n",
        "\n",
        "Write a program to compute 1/2+2/3+3/4+...+n/n+1 with a given n input by console (n>0).\n",
        "\n"
      ],
      "metadata": {
        "id": "fOVgw2cIZgw3"
      }
    },
    {
      "cell_type": "code",
      "source": [
        "n=int(input())\n",
        "sum=0\n",
        "for i in range (1,n+1):\n",
        "  sum+= i/(i+1)\n",
        "print(sum)"
      ],
      "metadata": {
        "colab": {
          "base_uri": "https://localhost:8080/"
        },
        "id": "_hjeW2waZhhB",
        "outputId": "6dd5cd76-a6af-4b2e-ba03-c51628c8f691"
      },
      "execution_count": null,
      "outputs": [
        {
          "output_type": "stream",
          "name": "stdout",
          "text": [
            "5\n",
            "3.5500000000000003\n"
          ]
        }
      ]
    },
    {
      "cell_type": "markdown",
      "source": [
        "Question 65\n",
        "\n",
        "Write a program to compute:\n",
        "\n",
        "f(n)=f(n-1)+100 when n>0 and f(0)=1\n",
        "\n",
        "with a given n input by console (n>0).\n",
        "\n"
      ],
      "metadata": {
        "id": "8mcccNttaO4u"
      }
    },
    {
      "cell_type": "code",
      "source": [
        "n=int(input())\n",
        "def f(n):\n",
        "  if n==0:\n",
        "    return 0\n",
        "  else:\n",
        "    return f(n-1)+100\n",
        "  \n",
        "print(f(n))"
      ],
      "metadata": {
        "colab": {
          "base_uri": "https://localhost:8080/"
        },
        "id": "KxA80lUcaPbJ",
        "outputId": "9d9260e2-07ad-4eff-8279-22ee66a930bc"
      },
      "execution_count": null,
      "outputs": [
        {
          "output_type": "stream",
          "name": "stdout",
          "text": [
            "4\n",
            "400\n"
          ]
        }
      ]
    },
    {
      "cell_type": "markdown",
      "source": [
        "Question 66\n",
        "\n",
        "The Fibonacci Sequence is computed based on the following formula:\n",
        "\n",
        "f(n)=0 if n=0 f(n)=1 if n=1 f(n)=f(n-1)+f(n-2) if n>1\n",
        "\n",
        "Please write a program to compute the value of f(n) with a given n input by console."
      ],
      "metadata": {
        "id": "ebs91wX0sLtU"
      }
    },
    {
      "cell_type": "code",
      "source": [
        "n=int(input())\n",
        "fib=[0,1]\n",
        "def f(n):\n",
        "  if n==0:\n",
        "    return fib[0]\n",
        "  elif n==1:\n",
        "    return fib[1]\n",
        "  else:\n",
        "    for i in range(2,n+1):\n",
        "      fib.append(fib[i-1] + fib[i-2])\n",
        "    return fib[n]\n",
        "\n",
        "print(f(n))"
      ],
      "metadata": {
        "colab": {
          "base_uri": "https://localhost:8080/"
        },
        "id": "IBt0AZB2sMH7",
        "outputId": "3afb779f-c6d4-41c4-feb9-0ef060f3fa1f"
      },
      "execution_count": null,
      "outputs": [
        {
          "output_type": "stream",
          "name": "stdout",
          "text": [
            "88\n",
            "1100087778366101931\n"
          ]
        }
      ]
    },
    {
      "cell_type": "markdown",
      "source": [
        "Question 67\n",
        "\n",
        "The Fibonacci Sequence is computed based on the following formula:\n",
        "\n",
        "f(n)=0 if n=0 f(n)=1 if n=1 f(n)=f(n-1)+f(n-2) if n>1\n",
        "\n",
        "Please write a program using list comprehension to print the Fibonacci Sequence in comma separated form with a given n input by console."
      ],
      "metadata": {
        "id": "V1RDeuqksYhi"
      }
    },
    {
      "cell_type": "code",
      "source": [
        "n=int(input())\n",
        "\n",
        "def f(n):\n",
        "  if n==0:\n",
        "    return [0]\n",
        "  elif n==1:\n",
        "    return [0,1]\n",
        "  else:\n",
        "    fib=[0,1]\n",
        "    for i in range(2,n+1):\n",
        "      fib.append(fib[i-1] + fib[i-2])\n",
        "    return fib\n",
        "\n",
        "\n",
        "\n",
        "print(f(n))"
      ],
      "metadata": {
        "colab": {
          "base_uri": "https://localhost:8080/"
        },
        "id": "YnH03yofyh8k",
        "outputId": "e7b07c82-c365-46f4-9a58-3d5cff6da946"
      },
      "execution_count": null,
      "outputs": [
        {
          "output_type": "stream",
          "name": "stdout",
          "text": [
            "0\n",
            "[0]\n"
          ]
        }
      ]
    },
    {
      "cell_type": "markdown",
      "source": [
        "Question 68\n",
        "\n",
        "Please write a program using generator to print the even numbers between 0 and n in comma separated form while n is input by console."
      ],
      "metadata": {
        "id": "I-dm-K2D1NXW"
      }
    },
    {
      "cell_type": "code",
      "source": [],
      "metadata": {
        "id": "HMUXn65F1M_8"
      },
      "execution_count": null,
      "outputs": []
    },
    {
      "cell_type": "markdown",
      "source": [
        "Question 74\n",
        "\n",
        "Please generate a random float where the value is between 10 and 100 using Python math module.\n",
        "\n"
      ],
      "metadata": {
        "id": "S5QqaCEOMF_x"
      }
    },
    {
      "cell_type": "code",
      "source": [
        "import random\n",
        "print(random.uniform(10,100))   #The uniform() method returns a random floating number between the two specified numbers (both included)."
      ],
      "metadata": {
        "colab": {
          "base_uri": "https://localhost:8080/"
        },
        "id": "v-MMfAWUMGcU",
        "outputId": "ea237ba9-0378-49cf-dcad-0160974b256e"
      },
      "execution_count": null,
      "outputs": [
        {
          "output_type": "stream",
          "name": "stdout",
          "text": [
            "26.094799649811275\n"
          ]
        }
      ]
    },
    {
      "cell_type": "markdown",
      "source": [
        "Question 75\n",
        "\n",
        "Please generate a random float where the value is between 5 and 95 using Python math module."
      ],
      "metadata": {
        "id": "tQHL1GaPC0zb"
      }
    },
    {
      "cell_type": "code",
      "source": [],
      "metadata": {
        "id": "N5wxa7ivC0Mn"
      },
      "execution_count": null,
      "outputs": []
    },
    {
      "cell_type": "markdown",
      "source": [
        "Question 76\n",
        "\n",
        "Please write a program to output a random even number between 0 and 10 inclusive using random module and list comprehension."
      ],
      "metadata": {
        "id": "eyFWWnU3C6mj"
      }
    },
    {
      "cell_type": "code",
      "source": [
        "import random\n",
        "print(random.choice([i for i in range(0,11) if i%2==0]))      \n",
        "#The choice() method returns a randomly selected element from the specified sequence.\n",
        "#The sequence can be a string, a range, a list, a tuple or any other kind of sequence."
      ],
      "metadata": {
        "colab": {
          "base_uri": "https://localhost:8080/"
        },
        "id": "8XIIPmzDC7T1",
        "outputId": "7f6202eb-1b68-47ec-ff08-4b040803f8a3"
      },
      "execution_count": null,
      "outputs": [
        {
          "output_type": "stream",
          "name": "stdout",
          "text": [
            "10\n"
          ]
        }
      ]
    },
    {
      "cell_type": "markdown",
      "source": [
        "Question 77\n",
        "\n",
        "Please write a program to output a random number, which is divisible by 5 and 7, between 0 and 10 inclusive using random module and list comprehension."
      ],
      "metadata": {
        "id": "hVgAVY2OEDtl"
      }
    },
    {
      "cell_type": "code",
      "source": [
        "print(random.choice([i for i in range(0,11) if i%5==0 and i%7==0]))      \n"
      ],
      "metadata": {
        "colab": {
          "base_uri": "https://localhost:8080/"
        },
        "id": "LoEJcyQlEHOl",
        "outputId": "47fa8b06-fb79-452e-f33e-26d8a32a34a7"
      },
      "execution_count": null,
      "outputs": [
        {
          "output_type": "stream",
          "name": "stdout",
          "text": [
            "0\n"
          ]
        }
      ]
    },
    {
      "cell_type": "markdown",
      "source": [
        "Question 78\n",
        "\n",
        "Please write a program to generate a list with 5 random numbers between 100 and 200 inclusive.\n",
        "\n"
      ],
      "metadata": {
        "id": "uxrtQu1GEUUY"
      }
    },
    {
      "cell_type": "code",
      "source": [
        "print(random.choices([i for i in range(100,201)],k=5))\n",
        "print(random.sample(range(100,201), 5))   #The sample() method returns a list with a randomly selection of a specified number of items from a sequnce."
      ],
      "metadata": {
        "colab": {
          "base_uri": "https://localhost:8080/"
        },
        "id": "ccGIghl2EVEU",
        "outputId": "a1057962-dc00-45f2-85b7-1903754dbfaf"
      },
      "execution_count": null,
      "outputs": [
        {
          "output_type": "stream",
          "name": "stdout",
          "text": [
            "[184, 144, 138, 185, 197]\n",
            "[112, 161, 159, 194, 151]\n"
          ]
        }
      ]
    },
    {
      "cell_type": "markdown",
      "source": [
        "Question 79\n",
        "\n",
        "Please write a program to randomly generate a list with 5 even numbers between 100 and 200 inclusive.\n",
        "\n"
      ],
      "metadata": {
        "id": "N9Aq6ZhqFRr1"
      }
    },
    {
      "cell_type": "code",
      "source": [
        "print(random.sample([i for i in range(100,201) if i%2==0], 5))"
      ],
      "metadata": {
        "colab": {
          "base_uri": "https://localhost:8080/"
        },
        "id": "E2reyVevFSXo",
        "outputId": "abc4734b-c1fc-49ba-a7b2-db97481b599f"
      },
      "execution_count": null,
      "outputs": [
        {
          "output_type": "stream",
          "name": "stdout",
          "text": [
            "[158, 130, 118, 106, 126]\n"
          ]
        }
      ]
    },
    {
      "cell_type": "markdown",
      "source": [
        "Question 80\n",
        "\n",
        "Please write a program to randomly generate a list with 5 numbers, which are divisible by 5 and 7 , between 1 and 1000 inclusive.\n",
        "\n"
      ],
      "metadata": {
        "id": "exwrp6iwGgv4"
      }
    },
    {
      "cell_type": "code",
      "source": [
        "print(random.sample([i for i in range(1001) if i%5==0 and i%7==0], 5))"
      ],
      "metadata": {
        "colab": {
          "base_uri": "https://localhost:8080/"
        },
        "id": "jdMmD5YVGhQr",
        "outputId": "af0b0256-a919-49a3-f5a9-2f450dc2d04d"
      },
      "execution_count": null,
      "outputs": [
        {
          "output_type": "stream",
          "name": "stdout",
          "text": [
            "[70, 735, 980, 525, 140]\n"
          ]
        }
      ]
    },
    {
      "cell_type": "markdown",
      "source": [
        "Question 81\n",
        "\n",
        "Please write a program to randomly print a integer number between 7 and 15 inclusive."
      ],
      "metadata": {
        "id": "NtbuIv_3G2PL"
      }
    },
    {
      "cell_type": "code",
      "source": [
        "print(random.randint(7,16))"
      ],
      "metadata": {
        "colab": {
          "base_uri": "https://localhost:8080/"
        },
        "id": "7Kx398PrG2zX",
        "outputId": "c30bf821-06eb-4654-e3bb-5086fab12812"
      },
      "execution_count": null,
      "outputs": [
        {
          "output_type": "stream",
          "name": "stdout",
          "text": [
            "12\n"
          ]
        }
      ]
    },
    {
      "cell_type": "markdown",
      "source": [
        "Question 82\n",
        "\n",
        "Please write a program to compress and decompress the string \"hello world!hello world!hello world!hello world!\".\n",
        "\n"
      ],
      "metadata": {
        "id": "ZLc-UQDHHRkt"
      }
    },
    {
      "cell_type": "markdown",
      "source": [
        "Question 84\n",
        "\n",
        "Please write a program to shuffle and print the list [3,6,7,8].\n",
        "\n"
      ],
      "metadata": {
        "id": "PHJdxNsgHoDB"
      }
    },
    {
      "cell_type": "code",
      "source": [
        "l=[3, 6, 7, 8]\n",
        "random.shuffle(l)\n",
        "print(l)"
      ],
      "metadata": {
        "colab": {
          "base_uri": "https://localhost:8080/"
        },
        "id": "56l5JUVJHrdh",
        "outputId": "d6aadbfb-6d7c-453d-e25f-21f4a57bf958"
      },
      "execution_count": null,
      "outputs": [
        {
          "output_type": "stream",
          "name": "stdout",
          "text": [
            "[6, 8, 7, 3]\n"
          ]
        }
      ]
    },
    {
      "cell_type": "markdown",
      "source": [
        "Question 86\n",
        "\n",
        "Please write a program to generate all sentences where subject is in [\"I\", \"You\"] and verb is in [\"Play\", \"Love\"] and the object is in [\"Hockey\",\"Football\"]."
      ],
      "metadata": {
        "id": "ezs0zTb7IIN6"
      }
    },
    {
      "cell_type": "code",
      "source": [
        "subject= [\"I\", \"You\"] \n",
        "verb=[\"Play\", \"Love\"] \n",
        "objects=[\"Hockey\",\"Football\"]\n",
        "for i in range(len(subject)):\n",
        "  for j in range(len(verb)):\n",
        "    for k in range(len(objects)):\n",
        "      sentence='%s %s %s' % (subject[i], verb[j], objects[k])\n",
        "      print(sentence)"
      ],
      "metadata": {
        "colab": {
          "base_uri": "https://localhost:8080/"
        },
        "id": "MQYUtIhIII3m",
        "outputId": "d76a8eff-02a1-44b5-d755-5045680f1b4d"
      },
      "execution_count": null,
      "outputs": [
        {
          "output_type": "stream",
          "name": "stdout",
          "text": [
            "I Play Hockey\n",
            "I Play Football\n",
            "I Love Hockey\n",
            "I Love Football\n",
            "You Play Hockey\n",
            "You Play Football\n",
            "You Love Hockey\n",
            "You Love Football\n"
          ]
        }
      ]
    },
    {
      "cell_type": "markdown",
      "source": [
        "Question 87\n",
        "\n",
        "Please write a program to print the list after removing delete even numbers in [5,6,77,45,22,12,24].\n",
        "\n"
      ],
      "metadata": {
        "id": "3iy4oQ1lL4bm"
      }
    },
    {
      "cell_type": "code",
      "source": [
        "l=[5,6,77,45,22,12,24]\n",
        "print([x for x in l if x%2!=0])"
      ],
      "metadata": {
        "colab": {
          "base_uri": "https://localhost:8080/"
        },
        "id": "VHdqBrrlL5iY",
        "outputId": "a8bebc9b-c2b9-49eb-b057-471fb28fa0e3"
      },
      "execution_count": null,
      "outputs": [
        {
          "output_type": "stream",
          "name": "stdout",
          "text": [
            "[5, 77, 45]\n"
          ]
        }
      ]
    },
    {
      "cell_type": "markdown",
      "source": [
        "Question 88\n",
        "\n",
        "By using list comprehension, please write a program to print the list after removing delete numbers which are divisible by 5 and 7 in [12,24,35,70,88,120,155]."
      ],
      "metadata": {
        "id": "U3aBORw_OrOj"
      }
    },
    {
      "cell_type": "code",
      "source": [],
      "metadata": {
        "id": "5hefp0IuQZrZ"
      },
      "execution_count": null,
      "outputs": []
    },
    {
      "cell_type": "markdown",
      "source": [
        "Question 89\n",
        "\n",
        "By using list comprehension, please write a program to print the list after removing the 0th, 2nd, 4th,6th numbers in [12,24,35,70,88,120,155].\n",
        "\n"
      ],
      "metadata": {
        "id": "UF-1p97HUD5O"
      }
    },
    {
      "cell_type": "code",
      "source": [
        "l=[12,24,35,70,88,120,155]\n",
        "print([x for (i,x) in enumerate(l) if i%2!=0])"
      ],
      "metadata": {
        "colab": {
          "base_uri": "https://localhost:8080/"
        },
        "id": "BEz9vu3uUJKA",
        "outputId": "5b1061ac-055b-4805-b0f1-da3cb975fffb"
      },
      "execution_count": null,
      "outputs": [
        {
          "output_type": "stream",
          "name": "stdout",
          "text": [
            "[24, 70, 120]\n"
          ]
        }
      ]
    },
    {
      "cell_type": "markdown",
      "source": [
        "Question 90\n",
        "\n",
        "By using list comprehension, please write a program generate a 358 3D array whose each element is 0."
      ],
      "metadata": {
        "id": "NANkCkS4VNvp"
      }
    },
    {
      "cell_type": "code",
      "source": [],
      "metadata": {
        "id": "EJDvL49jWDMR"
      },
      "execution_count": null,
      "outputs": []
    },
    {
      "cell_type": "markdown",
      "source": [
        "Question 91\n",
        "\n",
        "By using list comprehension, please write a program to print the list after removing the 0th,4th,5th numbers in [12,24,35,70,88,120,155]."
      ],
      "metadata": {
        "id": "kCE9POgYYJpR"
      }
    },
    {
      "cell_type": "code",
      "source": [
        "l=[12,24,35,70,88,120,155]\n",
        "print([x for (i,x) in enumerate(l) if i not in (0, 4, 5)])"
      ],
      "metadata": {
        "colab": {
          "base_uri": "https://localhost:8080/"
        },
        "id": "cRUGvzNTqCQJ",
        "outputId": "05cfb110-a921-4cdb-de93-a17765f9417b"
      },
      "execution_count": null,
      "outputs": [
        {
          "output_type": "stream",
          "name": "stdout",
          "text": [
            "[24, 35, 70, 155]\n"
          ]
        }
      ]
    },
    {
      "cell_type": "markdown",
      "source": [
        "Question 92\n",
        "\n",
        "By using list comprehension, please write a program to print the list after removing the value 24 in [12,24,35,24,88,120,155].\n",
        "\n"
      ],
      "metadata": {
        "id": "z402qhAsslvd"
      }
    },
    {
      "cell_type": "code",
      "source": [
        "l=[12,24,35,24,88,120,155]\n",
        "l.remove(24)\n",
        "print(l)"
      ],
      "metadata": {
        "colab": {
          "base_uri": "https://localhost:8080/"
        },
        "id": "lehcByG0smTL",
        "outputId": "299743a9-fe91-4f3d-c30a-1c0e14df4b02"
      },
      "execution_count": null,
      "outputs": [
        {
          "output_type": "stream",
          "name": "stdout",
          "text": [
            "[12, 35, 24, 88, 120, 155]\n"
          ]
        }
      ]
    },
    {
      "cell_type": "markdown",
      "source": [
        "Question 93\n",
        "\n",
        "With two given lists [1,3,6,78,35,55] and [12,24,35,24,88,120,155], write a program to make a list whose elements are intersection of the above given lists."
      ],
      "metadata": {
        "id": "K7dwjsHUtLB-"
      }
    },
    {
      "cell_type": "code",
      "source": [
        "l1=[1,3,6,78,35,55] \n",
        "l2=[12,24,35,24,88,120,155]\n",
        "out=[]\n",
        "for i in range(len(l1)):\n",
        "  for j in range(len(l2)):\n",
        "    if l1[i]==l2[j]:\n",
        "      out.append(l1[i])\n",
        "print(out)\n",
        "\n",
        "\n"
      ],
      "metadata": {
        "colab": {
          "base_uri": "https://localhost:8080/"
        },
        "id": "rr8LDx8PtNuE",
        "outputId": "11833dd7-a53a-4c45-ba76-d05b25b024d6"
      },
      "execution_count": null,
      "outputs": [
        {
          "output_type": "stream",
          "name": "stdout",
          "text": [
            "[35]\n"
          ]
        }
      ]
    },
    {
      "cell_type": "markdown",
      "source": [
        "Question 94\n",
        "\n",
        "With a given list [12,24,35,24,88,120,155,88,120,155], write a program to print this list after removing all duplicate values with original order reserved."
      ],
      "metadata": {
        "id": "TDk423tKvfBy"
      }
    },
    {
      "cell_type": "code",
      "source": [
        "l=[12,24,35,24,88,120,155,88,120,155]\n",
        "res=[]\n",
        "for item in l:\n",
        "  if item not in res:\n",
        "    res.append(item)\n",
        "\n",
        "print(res)"
      ],
      "metadata": {
        "colab": {
          "base_uri": "https://localhost:8080/"
        },
        "id": "UVPOoGfYvfoV",
        "outputId": "0343eb4b-7dc8-42d1-d75f-70fa3f8b119d"
      },
      "execution_count": null,
      "outputs": [
        {
          "output_type": "stream",
          "name": "stdout",
          "text": [
            "[12, 24, 35, 88, 120, 155]\n"
          ]
        }
      ]
    },
    {
      "cell_type": "markdown",
      "source": [
        "Question 95\n",
        "\n",
        "Define a class Person and its two child classes: Male and Female. All classes have a method \"getGender\" which can print \"Male\" for Male class and \"Female\" for Female class."
      ],
      "metadata": {
        "id": "5J8qN-hHxUBu"
      }
    },
    {
      "cell_type": "code",
      "source": [
        "class Person:\n",
        "  def getgender(self):\n",
        "    return 'None'\n",
        "\n",
        "class male(Person):\n",
        "  def getgender(self):\n",
        "    return 'male'\n",
        "  \n",
        "class female(Person):\n",
        "  def getgender(self):\n",
        "    return 'female'\n",
        "\n",
        "m=male()\n",
        "print(m.getgender())"
      ],
      "metadata": {
        "colab": {
          "base_uri": "https://localhost:8080/"
        },
        "id": "xG0VM0t3xUx8",
        "outputId": "6dad727b-eb86-4780-a4b4-4b61c1113581"
      },
      "execution_count": null,
      "outputs": [
        {
          "output_type": "stream",
          "name": "stdout",
          "text": [
            "male\n"
          ]
        }
      ]
    },
    {
      "cell_type": "markdown",
      "source": [
        "Question 96\n",
        "\n",
        "Please write a program which count and print the numbers of each character in a string input by console.\n",
        "\n",
        "Example: If the following string is given as input to the program:\n",
        "\n",
        "abcdefgabc\n",
        "\n",
        "Then, the output of the program should be:\n",
        "\n",
        "a,2 c,2 b,2 e,1 d,1 g,1 f,1"
      ],
      "metadata": {
        "id": "Ag3AJBQQ1tG3"
      }
    },
    {
      "cell_type": "code",
      "source": [
        "import collections\n",
        "s=input()\n",
        "collections.Counter(s)\n"
      ],
      "metadata": {
        "colab": {
          "base_uri": "https://localhost:8080/"
        },
        "id": "TabssEgK1t9y",
        "outputId": "e2f32292-c58a-41c2-c676-9ed444c6ba58"
      },
      "execution_count": null,
      "outputs": [
        {
          "name": "stdout",
          "output_type": "stream",
          "text": [
            "abcdefgabc\n"
          ]
        },
        {
          "output_type": "execute_result",
          "data": {
            "text/plain": [
              "Counter({'a': 2, 'b': 2, 'c': 2, 'd': 1, 'e': 1, 'f': 1, 'g': 1})"
            ]
          },
          "metadata": {},
          "execution_count": 17
        }
      ]
    },
    {
      "cell_type": "markdown",
      "source": [
        "Question 97\n",
        "\n",
        "Please write a program which accepts a string from console and print it in reverse order.\n",
        "\n"
      ],
      "metadata": {
        "id": "UWltDIe22jeg"
      }
    },
    {
      "cell_type": "code",
      "source": [
        "s=input()\n",
        "print(s[::-1])"
      ],
      "metadata": {
        "colab": {
          "base_uri": "https://localhost:8080/"
        },
        "id": "u9D8Bv1h2oJs",
        "outputId": "5299e41d-a78d-4dd3-a13d-a47e7abbdd0f"
      },
      "execution_count": null,
      "outputs": [
        {
          "output_type": "stream",
          "name": "stdout",
          "text": [
            "rite a progra\\\n",
            "\\argorp a etir\n"
          ]
        }
      ]
    },
    {
      "cell_type": "markdown",
      "source": [
        "Question 98\n",
        "\n",
        "Please write a program which accepts a string from console and print the characters that have even indexes.\n",
        "\n"
      ],
      "metadata": {
        "id": "8BpV0uMX20MB"
      }
    },
    {
      "cell_type": "code",
      "source": [
        "s=input()\n",
        "l=[k for k in s]\n",
        "print(l)\n",
        "print([x for (i ,x) in enumerate(l) if i%2==0])"
      ],
      "metadata": {
        "colab": {
          "base_uri": "https://localhost:8080/"
        },
        "id": "m-G5CSJ921gZ",
        "outputId": "41551423-22e9-4530-d5a5-dfd119978bc7"
      },
      "execution_count": null,
      "outputs": [
        {
          "output_type": "stream",
          "name": "stdout",
          "text": [
            "oijoi\n",
            "['o', 'i', 'j', 'o', 'i']\n",
            "['o', 'j', 'i']\n"
          ]
        }
      ]
    },
    {
      "cell_type": "markdown",
      "source": [
        "Question 100\n",
        "\n",
        "Write a program to solve a classic ancient Chinese puzzle: We count 35 heads and 94 legs among the chickens and rabbits in a farm. How many rabbits and how many chickens do we have?"
      ],
      "metadata": {
        "id": "bnzHYHiu4j0u"
      }
    },
    {
      "cell_type": "code",
      "source": [
        "def chick_rabbit(nheads, nlegs):\n",
        "  chick_n=nheads-rabbit_n\n",
        "  "
      ],
      "metadata": {
        "id": "5N6rGTjb4kPk"
      },
      "execution_count": null,
      "outputs": []
    }
  ]
}